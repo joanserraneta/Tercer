{
 "cells": [
  {
   "attachments": {},
   "cell_type": "markdown",
   "metadata": {},
   "source": [
    "# digits con clasificadores discriminativos"
   ]
  },
  {
   "attachments": {},
   "cell_type": "markdown",
   "metadata": {},
   "source": [
    "Al igual que en iris, sklearn facilita el aprendizaje y evaluación de clasificadores discriminativos en digits."
   ]
  },
  {
   "cell_type": "code",
   "execution_count": 9,
   "metadata": {},
   "outputs": [],
   "source": [
    "import numpy as np\n",
    "import matplotlib.pyplot as plt\n",
    "from scipy.stats import multivariate_normal\n",
    "from sklearn.datasets import load_digits\n",
    "from sklearn.model_selection import train_test_split\n",
    "from sklearn.linear_model import Perceptron, LogisticRegression\n",
    "from sklearn.metrics import accuracy_score\n",
    "from sklearn.decomposition import PCA\n",
    "from sklearn.preprocessing import StandardScaler, PolynomialFeatures\n",
    "from sklearn.pipeline import make_pipeline\n",
    "\n",
    "from sklearn.naive_bayes import GaussianNB\n",
    "from sklearn.discriminant_analysis import LinearDiscriminantAnalysis, QuadraticDiscriminantAnalysis"
   ]
  },
  {
   "cell_type": "markdown",
   "metadata": {},
   "source": [
    "Lectura del corpus digits:"
   ]
  },
  {
   "cell_type": "code",
   "execution_count": 2,
   "metadata": {},
   "outputs": [],
   "source": [
    "digits = load_digits()\n",
    "X = digits.data\n",
    "y = digits.target\n",
    "X_train, X_test, y_train, y_test = train_test_split(\n",
    "    digits.data, digits.target, test_size=0.3, shuffle=True, random_state=23)"
   ]
  },
  {
   "attachments": {},
   "cell_type": "markdown",
   "metadata": {},
   "source": [
    "Veamos Perceptrón con penalización L2 en función de alpha:"
   ]
  },
  {
   "cell_type": "code",
   "execution_count": 3,
   "metadata": {},
   "outputs": [
    {
     "name": "stdout",
     "output_type": "stream",
     "text": [
      "La precisión de Perceptron(alpha=1e-08, penalty='l2') es 93.0%\n",
      "La precisión de Perceptron(alpha=1e-07, penalty='l2') es 93.5%\n",
      "La precisión de Perceptron(alpha=1e-06, penalty='l2') es 86.9%\n",
      "La precisión de Perceptron(alpha=1e-05, penalty='l2') es 85.9%\n",
      "La precisión de Perceptron(penalty='l2') es 92.8%\n",
      "La precisión de Perceptron(alpha=0.001, penalty='l2') es 87.2%\n"
     ]
    }
   ],
   "source": [
    "for a in np.logspace(-8,-3,6):\n",
    "    clf = Perceptron(penalty='l2', alpha=a, random_state=0).fit(X_train, y_train)\n",
    "    acc = accuracy_score(y_test, clf.predict(X_test))\n",
    "    print('La precisión de {0!s} es {1:.1%}'.format(clf, acc))"
   ]
  },
  {
   "attachments": {},
   "cell_type": "markdown",
   "metadata": {},
   "source": [
    "Veamos regresión logística con varios solvers (y max_iter=10000)."
   ]
  },
  {
   "cell_type": "code",
   "execution_count": 22,
   "metadata": {},
   "outputs": [
    {
     "name": "stdout",
     "output_type": "stream",
     "text": [
      "La precisión de LogisticRegression(max_iter=10000) es 95.9%\n",
      "La precisión de LogisticRegression(max_iter=10000, solver='liblinear') es 94.1%\n",
      "La precisión de LogisticRegression(max_iter=10000, solver='newton-cg') es 95.9%\n",
      "La precisión de LogisticRegression(max_iter=10000, solver='sag') es 96.3%\n",
      "La precisión de LogisticRegression(max_iter=10000, solver='saga') es 96.3%\n"
     ]
    }
   ],
   "source": [
    "for solver in ['lbfgs', 'liblinear', 'newton-cg', 'sag', 'saga']:\n",
    "    clf = LogisticRegression(solver=solver, max_iter=10000).fit(X_train, y_train)\n",
    "    acc = accuracy_score(y_test, clf.predict(X_test))\n",
    "    print('La precisión de {0!s} es {1:.1%}'.format(clf, acc))"
   ]
  },
  {
   "attachments": {},
   "cell_type": "markdown",
   "metadata": {},
   "source": [
    "**Ejercicio:** Aparte de características polinómicas, el preproceso de características puede incluir estandarización (StandardScaler) y reducción de la dimensión (PCA). Trata de mejorar la precisión de regresión logística mediante pipelines con\n",
    "**ingeniería de características**."
   ]
  },
  {
   "cell_type": "code",
   "execution_count": 28,
   "metadata": {},
   "outputs": [
    {
     "name": "stdout",
     "output_type": "stream",
     "text": [
      "La precisión de [('standardscaler', StandardScaler()), ('pca', PCA()), ('logisticregression', LogisticRegression())] es: 96.9%\n",
      "--------------------------------------------------------------\n",
      "La precisión de [('standardscaler', StandardScaler()), ('pca', PCA()), ('perceptron', Perceptron(alpha=1e-07, penalty='l2'))] es: 93.1%\n",
      "--------------------------------------------------------------\n",
      "La precisión de [('standardscaler', StandardScaler()), ('pca', PCA()), ('gaussiannb', GaussianNB(var_smoothing=1e-12))] es: 90.4%\n",
      "--------------------------------------------------------------\n",
      "La precisión de [('standardscaler', StandardScaler()), ('pca', PCA()), ('lineardiscriminantanalysis', LinearDiscriminantAnalysis())] es: 94.6%\n",
      "--------------------------------------------------------------\n",
      "La precisión de [('standardscaler', StandardScaler()), ('pca', PCA()), ('quadraticdiscriminantanalysis', QuadraticDiscriminantAnalysis())] es: 83.0%\n",
      "--------------------------------------------------------------\n"
     ]
    },
    {
     "name": "stderr",
     "output_type": "stream",
     "text": [
      "c:\\Users\\joan_\\anaconda3\\lib\\site-packages\\sklearn\\discriminant_analysis.py:878: UserWarning: Variables are collinear\n",
      "  warnings.warn(\"Variables are collinear\")\n"
     ]
    }
   ],
   "source": [
    "for i in [LogisticRegression(), Perceptron(alpha=1e-07, penalty='l2'), GaussianNB(var_smoothing=1e-12), LinearDiscriminantAnalysis(), QuadraticDiscriminantAnalysis()]:\n",
    "    pipe = make_pipeline(StandardScaler(), PCA(), i)\n",
    "\n",
    "    pipe.fit(X_train, y_train)\n",
    "    acc = pipe.score(X_test,  y_test)\n",
    "\n",
    "    print('La precisión de {0!s} es: {1:.1%}'.format(pipe.steps, acc))\n",
    "    print('--------------------------------------------------------------')\n",
    "    "
   ]
  }
 ],
 "metadata": {
  "kernelspec": {
   "display_name": "Python 3",
   "language": "python",
   "name": "python3"
  },
  "language_info": {
   "codemirror_mode": {
    "name": "ipython",
    "version": 3
   },
   "file_extension": ".py",
   "mimetype": "text/x-python",
   "name": "python",
   "nbconvert_exporter": "python",
   "pygments_lexer": "ipython3",
   "version": "3.9.13"
  },
  "vscode": {
   "interpreter": {
    "hash": "e7370f93d1d0cde622a1f8e1c04877d8463912d04d973331ad4851f04de6915a"
   }
  }
 },
 "nbformat": 4,
 "nbformat_minor": 4
}
