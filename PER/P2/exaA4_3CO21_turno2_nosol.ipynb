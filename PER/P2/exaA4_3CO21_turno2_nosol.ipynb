{
 "cells": [
  {
   "attachments": {},
   "cell_type": "markdown",
   "metadata": {},
   "source": [
    "# Percepción (PER): examen de prácticas del bloque 2, grupo 3CO21, turno 2, 30-5-2023, 18:15:19:00\n",
    "\n",
    "Lee este cuaderno y realiza las actividades y ejercicios propuestos."
   ]
  },
  {
   "attachments": {},
   "cell_type": "markdown",
   "metadata": {},
   "source": [
    "## Lectura de MNIST\n",
    "\n",
    "Ejecuta el código siguiente:"
   ]
  },
  {
   "cell_type": "code",
   "execution_count": 1,
   "metadata": {},
   "outputs": [
    {
     "name": "stderr",
     "output_type": "stream",
     "text": [
      "/home/joan/anaconda3/lib/python3.10/site-packages/sklearn/datasets/_openml.py:932: FutureWarning: The default value of `parser` will change from `'liac-arff'` to `'auto'` in 1.4. You can set `parser='auto'` to silence this warning. Therefore, an `ImportError` will be raised from 1.4 if the dataset is dense and pandas is not installed. Note that the pandas parser may return different data types. See the Notes Section in fetch_openml's API doc for details.\n",
      "  warn(\n"
     ]
    }
   ],
   "source": [
    "import numpy as np\n",
    "from sklearn.datasets import fetch_openml\n",
    "mnist = fetch_openml(\"mnist_784\")\n",
    "data = mnist.data\n",
    "targets = mnist.target \n",
    "\n",
    "# Comentar estas dos líneas si da error al ya ser datos numpy\n",
    "targets=targets.to_numpy()\n",
    "data=data.to_numpy()\n",
    "\n",
    "targets=np.int8(targets)\n",
    "data=np.float32(data)"
   ]
  },
  {
   "attachments": {},
   "cell_type": "markdown",
   "metadata": {},
   "source": [
    "## Partición de los datos\n",
    "\n",
    "El código siguiente particiona los datos en 3 subconjuntos; training, validación y test; con un 70%, 15% y 15% del total, respectivamente. Ejecuta el código siguiente con **random_state** igual a las tres últimas cifras de tu DNI/NIE:"
   ]
  },
  {
   "cell_type": "code",
   "execution_count": 2,
   "metadata": {},
   "outputs": [
    {
     "name": "stdout",
     "output_type": "stream",
     "text": [
      "(49000, 784) (10500, 784) (10500, 784)\n"
     ]
    }
   ],
   "source": [
    "from sklearn.model_selection import train_test_split\n",
    "x_train_val, x_test, y_train_val, y_test  = train_test_split(data, targets, test_size=0.15, random_state=275)\n",
    "x_train, x_val, y_train, y_val = train_test_split(x_train_val, y_train_val, test_size=0.15/0.85, random_state=275) \n",
    "print(x_train.shape, x_val.shape, x_test.shape)"
   ]
  },
  {
   "attachments": {},
   "cell_type": "markdown",
   "metadata": {},
   "source": [
    "## PCA y KNN: hiper-parámetros\n",
    "\n",
    "Estudia la precisión en validación del clasificador por el vecino más cercano entrenado con el 70% de datos reservados para entrenamiento. El número de componentes va a ser reducido con PCA. Una vez reducido prueba diferentes valores del hiper-parámetro **K** (k vecinos). Por brevedad, se recomienda probar los siguientes valores de PCA=[8,16,32] junto con los valores de K=[1,3,4,5]."
   ]
  },
  {
   "cell_type": "code",
   "execution_count": 14,
   "metadata": {},
   "outputs": [
    {
     "name": "stdout",
     "output_type": "stream",
     "text": [
      "PCA: 8 la precision para 1 vecinos es : 0.8770476190476191\n",
      "PCA: 8 la precision para 3 vecinos es : 0.8951428571428571\n",
      "PCA: 8 la precision para 4 vecinos es : 0.8963809523809524\n",
      "PCA: 8 la precision para 5 vecinos es : 0.8975238095238095\n",
      "PCA: 16 la precision para 1 vecinos es : 0.9608571428571429\n",
      "PCA: 16 la precision para 3 vecinos es : 0.9634285714285714\n",
      "PCA: 16 la precision para 4 vecinos es : 0.9627619047619047\n",
      "PCA: 16 la precision para 5 vecinos es : 0.963047619047619\n",
      "PCA: 32 la precision para 1 vecinos es : 0.9747619047619047\n",
      "PCA: 32 la precision para 3 vecinos es : 0.9743809523809523\n",
      "PCA: 32 la precision para 4 vecinos es : 0.9738095238095238\n",
      "PCA: 32 la precision para 5 vecinos es : 0.9740952380952381\n"
     ]
    }
   ],
   "source": [
    "# Escribe aquí tu solución:\n",
    "from sklearn.neighbors import KNeighborsClassifier\n",
    "from sklearn.pipeline import make_pipeline\n",
    "from sklearn.decomposition import PCA\n",
    "from sklearn.metrics import accuracy_score\n",
    "\n",
    "\n",
    "for n in [8,16,32]:\n",
    "    for md in [1,3,4,5]:\n",
    "        \n",
    "        clf = make_pipeline(PCA(n_components=n), KNeighborsClassifier(n_neighbors=md))\n",
    "        \n",
    "        clf.fit(x_train,y_train)\n",
    "        ypred = clf.predict(x_val)\n",
    "        acc = accuracy_score(y_val, ypred)\n",
    "        print(\"PCA:\", n, \"la precision para\", md,\"vecinos es :\", acc)"
   ]
  },
  {
   "attachments": {},
   "cell_type": "markdown",
   "metadata": {},
   "source": [
    "## PCA y KNN: precisión en test\n",
    "\n",
    "Entrena ahora el KNN con el 85% de datos reservado para entrenamiento y validación, así como con la combinación de valores de **numero de componentes** de PCA y **K** que mayor precisión en validación haya obtenido en el estudio anterior. Obtén la precisión en test del mismo."
   ]
  },
  {
   "cell_type": "code",
   "execution_count": 16,
   "metadata": {},
   "outputs": [
    {
     "name": "stdout",
     "output_type": "stream",
     "text": [
      "PCA: 32 y la precision para 1 vecino es : 0.9769523809523809\n"
     ]
    }
   ],
   "source": [
    "# Escribe aquí tu solución:\n",
    "\n",
    "clf = make_pipeline(PCA(n_components=32), KNeighborsClassifier(n_neighbors=1))\n",
    "\n",
    "clf.fit(x_train_val,y_train_val)\n",
    "ypred = clf.predict(x_test)\n",
    "acc = accuracy_score(y_test, ypred)\n",
    "print(\"PCA: 32 y la precision para 1 vecino es :\", acc)"
   ]
  }
 ],
 "metadata": {
  "kernelspec": {
   "display_name": "Python 3.7.4",
   "language": "python",
   "name": "python3"
  },
  "language_info": {
   "codemirror_mode": {
    "name": "ipython",
    "version": 3
   },
   "file_extension": ".py",
   "mimetype": "text/x-python",
   "name": "python",
   "nbconvert_exporter": "python",
   "pygments_lexer": "ipython3",
   "version": "3.10.9"
  },
  "orig_nbformat": 4,
  "vscode": {
   "interpreter": {
    "hash": "3067ead486e059ec00ffe7555bdb889e6e264a24dc711bf108106cc7baee8d5d"
   }
  }
 },
 "nbformat": 4,
 "nbformat_minor": 2
}
